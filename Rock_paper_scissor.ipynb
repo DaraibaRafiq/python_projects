{
  "nbformat": 4,
  "nbformat_minor": 0,
  "metadata": {
    "colab": {
      "provenance": [],
      "authorship_tag": "ABX9TyMwudO5fIrF7rtyz8XJCnwq",
      "include_colab_link": true
    },
    "kernelspec": {
      "name": "python3",
      "display_name": "Python 3"
    },
    "language_info": {
      "name": "python"
    }
  },
  "cells": [
    {
      "cell_type": "markdown",
      "metadata": {
        "id": "view-in-github",
        "colab_type": "text"
      },
      "source": [
        "<a href=\"https://colab.research.google.com/github/DaraibaRafiq/python_projects/blob/main/Rock_paper_scissor.ipynb\" target=\"_parent\"><img src=\"https://colab.research.google.com/assets/colab-badge.svg\" alt=\"Open In Colab\"/></a>"
      ]
    },
    {
      "cell_type": "code",
      "execution_count": null,
      "metadata": {
        "colab": {
          "base_uri": "https://localhost:8080/"
        },
        "id": "Vu6FHtOv88_N",
        "outputId": "c28ee3bf-5b03-4a18-be1a-b269b806f99c"
      },
      "outputs": [
        {
          "output_type": "stream",
          "name": "stdout",
          "text": [
            "Enter your choice (rock, paper, scissor): paper\n",
            "Computer choice: rock\n",
            "You Win!\n",
            "Do you want to play again? (yes/no): no\n",
            "Thanks for playing!\n"
          ]
        }
      ],
      "source": [
        "import random\n",
        "\n",
        "choices = [\"rock\", \"paper\", \"scissor\"]\n",
        "\n",
        "while True:\n",
        "    user_choice = input(\"Enter your choice (rock, paper, scissor): \").lower()\n",
        "\n",
        "    if user_choice not in choices:\n",
        "        print(\"Invalid choice! Please enter rock, paper, or scissor.\")\n",
        "        continue\n",
        "\n",
        "    computer_choice = random.choice(choices)  # Fixed typo (choice → choices)\n",
        "    print(f\"Computer choice: {computer_choice}\")\n",
        "\n",
        "    # Determine the winner\n",
        "    if user_choice == computer_choice:\n",
        "        print(\"Match Draw! Both chose the same.\")\n",
        "    elif (user_choice == \"rock\" and computer_choice == \"scissor\") or \\\n",
        "         (user_choice == \"paper\" and computer_choice == \"rock\") or \\\n",
        "         (user_choice == \"scissor\" and computer_choice == \"paper\"):\n",
        "        print(\"You Win!\")\n",
        "    else:\n",
        "        print(\"Computer Wins!\")\n",
        "\n",
        "    # Ask the user to play again\n",
        "    play_again = input(\"Do you want to play again? (yes/no): \").lower()\n",
        "    if play_again != \"yes\":  # Fixed `=!` to `!=`\n",
        "        print(\"Thanks for playing!\")\n",
        "        break\n"
      ]
    }
  ]
}