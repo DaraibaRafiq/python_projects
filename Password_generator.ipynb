{
  "nbformat": 4,
  "nbformat_minor": 0,
  "metadata": {
    "colab": {
      "provenance": [],
      "authorship_tag": "ABX9TyPkktoTF0VyeT1Zi3Ge7bHW",
      "include_colab_link": true
    },
    "kernelspec": {
      "name": "python3",
      "display_name": "Python 3"
    },
    "language_info": {
      "name": "python"
    }
  },
  "cells": [
    {
      "cell_type": "markdown",
      "metadata": {
        "id": "view-in-github",
        "colab_type": "text"
      },
      "source": [
        "<a href=\"https://colab.research.google.com/github/DaraibaRafiq/python_projects/blob/main/Password_generator.ipynb\" target=\"_parent\"><img src=\"https://colab.research.google.com/assets/colab-badge.svg\" alt=\"Open In Colab\"/></a>"
      ]
    },
    {
      "cell_type": "markdown",
      "source": [
        "# **Password Generator**"
      ],
      "metadata": {
        "id": "-jc7e8Xh-hBo"
      }
    },
    {
      "cell_type": "code",
      "source": [
        "import string\n",
        "import random\n",
        "\n",
        "def generate_password(length):\n",
        "    characters = string.ascii_letters + string.digits + \"@#$%^&*\"\n",
        "    return \"\".join(random.choice(characters) for _ in range(length))\n",
        "\n",
        "user_input = int(input(\"Enter length of password: \"))\n",
        "if user_input < 8:\n",
        "    print(\"Password length should be at least 8 characters.\")\n",
        "else:\n",
        "    password = generate_password(user_input)\n",
        "    print(f\"Generated password: {password}\")\n"
      ],
      "metadata": {
        "colab": {
          "base_uri": "https://localhost:8080/"
        },
        "id": "vubSC9Nq-nPT",
        "outputId": "f3fc1825-ff04-40af-ac32-0848feab9437"
      },
      "execution_count": 4,
      "outputs": [
        {
          "output_type": "stream",
          "name": "stdout",
          "text": [
            "Enter length of password: 8\n",
            "Generated password: I&pHkdI3\n"
          ]
        }
      ]
    }
  ]
}