{
  "nbformat": 4,
  "nbformat_minor": 0,
  "metadata": {
    "colab": {
      "provenance": [],
      "authorship_tag": "ABX9TyNeIr2j/Bh1MMxY5WaLMHdB",
      "include_colab_link": true
    },
    "kernelspec": {
      "name": "python3",
      "display_name": "Python 3"
    },
    "language_info": {
      "name": "python"
    }
  },
  "cells": [
    {
      "cell_type": "markdown",
      "metadata": {
        "id": "view-in-github",
        "colab_type": "text"
      },
      "source": [
        "<a href=\"https://colab.research.google.com/github/DaraibaRafiq/python_projects/blob/main/Number_Guessing_game_(computer).ipynb\" target=\"_parent\"><img src=\"https://colab.research.google.com/assets/colab-badge.svg\" alt=\"Open In Colab\"/></a>"
      ]
    },
    {
      "cell_type": "markdown",
      "source": [
        "# **Number Guessing Game**"
      ],
      "metadata": {
        "id": "9wPaplqLaSDM"
      }
    },
    {
      "cell_type": "code",
      "source": [
        "import random\n",
        "print(\"Think of a number between 1 to 10\")\n",
        "user_input=int(input(\"Enter your secret number (computer will guess it) \"))\n",
        "\n",
        "computer_number=random.randint(1,10)\n",
        "print(f\"Computer's first guess is {computer_number}\")\n",
        "\n",
        "while True :\n",
        "  feedback=input(\"Is this guess correct ? (high , low  or correct) \")\n",
        "  if feedback == \"correct\":\n",
        "     print(\"Yayy!! The computer guessed it right....\")\n",
        "     break\n",
        "  elif feedback == \"low\":\n",
        "     print(\"Computer's guess is low...\")\n",
        "  elif feedback == \"high\" :\n",
        "     print(\"Computer's guess is high...\")\n",
        "  else :\n",
        "     print(\"Invalid input! Please type only high, low or correct\")\n",
        "     continue\n",
        "  computer_number=random.randint(1,10)\n",
        "  print(f\"Computer's new guess is {computer_number}\")"
      ],
      "metadata": {
        "colab": {
          "base_uri": "https://localhost:8080/"
        },
        "id": "o1D6o8lqagE3",
        "outputId": "52f79698-ca21-4c8d-a92e-1aec61011ac5"
      },
      "execution_count": 3,
      "outputs": [
        {
          "output_type": "stream",
          "name": "stdout",
          "text": [
            "Think of a number between 1 to 10\n",
            "Enter your secret number (computer will guess it) 8\n",
            "Computer's first guess is 9\n",
            "Is this guess correct ? (high , low  or correct) high\n",
            "Computer's guess is high...\n",
            "Computer's new guess is 1\n",
            "Is this guess correct ? (high , low  or correct) low\n",
            "Computer's guess is low...\n",
            "Computer's new guess is 4\n",
            "Is this guess correct ? (high , low  or correct) low\n",
            "Computer's guess is low...\n",
            "Computer's new guess is 10\n",
            "Is this guess correct ? (high , low  or correct) high\n",
            "Computer's guess is high...\n",
            "Computer's new guess is 9\n",
            "Is this guess correct ? (high , low  or correct) high\n",
            "Computer's guess is high...\n",
            "Computer's new guess is 7\n",
            "Is this guess correct ? (high , low  or correct) low\n",
            "Computer's guess is low...\n",
            "Computer's new guess is 10\n",
            "Is this guess correct ? (high , low  or correct) high\n",
            "Computer's guess is high...\n",
            "Computer's new guess is 4\n",
            "Is this guess correct ? (high , low  or correct) low\n",
            "Computer's guess is low...\n",
            "Computer's new guess is 7\n",
            "Is this guess correct ? (high , low  or correct) low\n",
            "Computer's guess is low...\n",
            "Computer's new guess is 5\n",
            "Is this guess correct ? (high , low  or correct) low\n",
            "Computer's guess is low...\n",
            "Computer's new guess is 10\n",
            "Is this guess correct ? (high , low  or correct) high\n",
            "Computer's guess is high...\n",
            "Computer's new guess is 6\n",
            "Is this guess correct ? (high , low  or correct) low\n",
            "Computer's guess is low...\n",
            "Computer's new guess is 9\n",
            "Is this guess correct ? (high , low  or correct) high\n",
            "Computer's guess is high...\n",
            "Computer's new guess is 9\n",
            "Is this guess correct ? (high , low  or correct) high\n",
            "Computer's guess is high...\n",
            "Computer's new guess is 2\n",
            "Is this guess correct ? (high , low  or correct) low\n",
            "Computer's guess is low...\n",
            "Computer's new guess is 3\n",
            "Is this guess correct ? (high , low  or correct) low\n",
            "Computer's guess is low...\n",
            "Computer's new guess is 5\n",
            "Is this guess correct ? (high , low  or correct) low\n",
            "Computer's guess is low...\n",
            "Computer's new guess is 9\n",
            "Is this guess correct ? (high , low  or correct) high\n",
            "Computer's guess is high...\n",
            "Computer's new guess is 6\n",
            "Is this guess correct ? (high , low  or correct) low\n",
            "Computer's guess is low...\n",
            "Computer's new guess is 1\n",
            "Is this guess correct ? (high , low  or correct) low\n",
            "Computer's guess is low...\n",
            "Computer's new guess is 6\n",
            "Is this guess correct ? (high , low  or correct) low\n",
            "Computer's guess is low...\n",
            "Computer's new guess is 4\n",
            "Is this guess correct ? (high , low  or correct) low\n",
            "Computer's guess is low...\n",
            "Computer's new guess is 7\n",
            "Is this guess correct ? (high , low  or correct) low\n",
            "Computer's guess is low...\n",
            "Computer's new guess is 6\n",
            "Is this guess correct ? (high , low  or correct) low\n",
            "Computer's guess is low...\n",
            "Computer's new guess is 1\n",
            "Is this guess correct ? (high , low  or correct) low\n",
            "Computer's guess is low...\n",
            "Computer's new guess is 1\n",
            "Is this guess correct ? (high , low  or correct) low\n",
            "Computer's guess is low...\n",
            "Computer's new guess is 2\n",
            "Is this guess correct ? (high , low  or correct) low\n",
            "Computer's guess is low...\n",
            "Computer's new guess is 2\n",
            "Is this guess correct ? (high , low  or correct) low\n",
            "Computer's guess is low...\n",
            "Computer's new guess is 8\n",
            "Is this guess correct ? (high , low  or correct) correct\n",
            "Yayy!! The computer guessed it right....\n"
          ]
        }
      ]
    }
  ]
}