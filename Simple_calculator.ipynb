{
  "nbformat": 4,
  "nbformat_minor": 0,
  "metadata": {
    "colab": {
      "provenance": [],
      "authorship_tag": "ABX9TyMeZu6uXXkmV9tPjjk1lYYd",
      "include_colab_link": true
    },
    "kernelspec": {
      "name": "python3",
      "display_name": "Python 3"
    },
    "language_info": {
      "name": "python"
    }
  },
  "cells": [
    {
      "cell_type": "markdown",
      "metadata": {
        "id": "view-in-github",
        "colab_type": "text"
      },
      "source": [
        "<a href=\"https://colab.research.google.com/github/DaraibaRafiq/python_projects/blob/main/Simple_calculator.ipynb\" target=\"_parent\"><img src=\"https://colab.research.google.com/assets/colab-badge.svg\" alt=\"Open In Colab\"/></a>"
      ]
    },
    {
      "cell_type": "code",
      "source": [
        "def calculator(first_num, second_num, operation):\n",
        "    if operation == \"+\" :\n",
        "       print(first_num + second_num)\n",
        "    elif operation == \"-\" :\n",
        "       print(first_num - second_num)\n",
        "    elif operation == \"*\" :\n",
        "       print(first_num * second_num)\n",
        "    elif operation == \"/\" :\n",
        "       print(first_num / second_num)\n",
        "    elif operation == \"//\" :\n",
        "       print(first_num // second_num)\n",
        "\n",
        "first_num=int(input(\"Enter your first_num...\"))\n",
        "second_num=int(input(\"Enter your second_num...\"))\n",
        "operation=(input(\"Enter your operation...\"))\n",
        "\n",
        "calculator(first_num, second_num, operation)"
      ],
      "metadata": {
        "colab": {
          "base_uri": "https://localhost:8080/"
        },
        "id": "D7eHlV-MwJc9",
        "outputId": "dffc6409-b15b-4fab-bd21-a94b7381fb29"
      },
      "execution_count": 18,
      "outputs": [
        {
          "output_type": "stream",
          "name": "stdout",
          "text": [
            "Enter your first_num...3\n",
            "Enter your second_num...3\n",
            "Enter your operation...-\n",
            "0\n"
          ]
        }
      ]
    }
  ]
}