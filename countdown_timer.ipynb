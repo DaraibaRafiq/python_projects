{
  "nbformat": 4,
  "nbformat_minor": 0,
  "metadata": {
    "colab": {
      "provenance": [],
      "authorship_tag": "ABX9TyPDIDVGnhHca3r++SjAXDxp",
      "include_colab_link": true
    },
    "kernelspec": {
      "name": "python3",
      "display_name": "Python 3"
    },
    "language_info": {
      "name": "python"
    }
  },
  "cells": [
    {
      "cell_type": "markdown",
      "metadata": {
        "id": "view-in-github",
        "colab_type": "text"
      },
      "source": [
        "<a href=\"https://colab.research.google.com/github/DaraibaRafiq/python_projects/blob/main/countdown_timer.ipynb\" target=\"_parent\"><img src=\"https://colab.research.google.com/assets/colab-badge.svg\" alt=\"Open In Colab\"/></a>"
      ]
    },
    {
      "cell_type": "markdown",
      "source": [
        "# **Countdown Timer**"
      ],
      "metadata": {
        "id": "kPWDlkJD88b0"
      }
    },
    {
      "cell_type": "code",
      "source": [
        "import time\n",
        "\n",
        "def countdown_timer():\n",
        "    while True:\n",
        "        try:\n",
        "            user_input = int(input(\"Enter countdown timer in seconds: \"))\n",
        "            if user_input < 0:\n",
        "                print(\"Please enter a positive number.\")\n",
        "                continue\n",
        "            break\n",
        "        except ValueError:\n",
        "            print(\"Invalid input. Please enter a number.\")\n",
        "\n",
        "    for i in range(user_input, 0, -1):\n",
        "        print(f\"Time left: {i} seconds \")\n",
        "        time.sleep(1)\n",
        "\n",
        "    print(\"Time's up!\")\n",
        "\n",
        "countdown_timer()\n"
      ],
      "metadata": {
        "colab": {
          "base_uri": "https://localhost:8080/"
        },
        "id": "zKWX9QX19BoY",
        "outputId": "689d94fe-2198-4022-e8b2-d2a92a1859ba"
      },
      "execution_count": 7,
      "outputs": [
        {
          "output_type": "stream",
          "name": "stdout",
          "text": [
            "Enter countdown timer in seconds: 8\n",
            "' \n",
            "' \n",
            "' \n",
            "' \n",
            "' \n",
            "' \n",
            "' \n",
            "' \n",
            "Time's up!\n"
          ]
        }
      ]
    }
  ]
}