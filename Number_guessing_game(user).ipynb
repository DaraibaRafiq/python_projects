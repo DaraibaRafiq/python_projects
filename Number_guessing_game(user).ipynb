{
  "nbformat": 4,
  "nbformat_minor": 0,
  "metadata": {
    "colab": {
      "provenance": [],
      "authorship_tag": "ABX9TyN8T+ElA+55+csMdZrURP/R",
      "include_colab_link": true
    },
    "kernelspec": {
      "name": "python3",
      "display_name": "Python 3"
    },
    "language_info": {
      "name": "python"
    }
  },
  "cells": [
    {
      "cell_type": "markdown",
      "metadata": {
        "id": "view-in-github",
        "colab_type": "text"
      },
      "source": [
        "<a href=\"https://colab.research.google.com/github/DaraibaRafiq/python_projects/blob/main/Number_guessing_game(user).ipynb\" target=\"_parent\"><img src=\"https://colab.research.google.com/assets/colab-badge.svg\" alt=\"Open In Colab\"/></a>"
      ]
    },
    {
      "cell_type": "markdown",
      "source": [],
      "metadata": {
        "id": "hI7hF_dkNo0f"
      }
    },
    {
      "cell_type": "markdown",
      "source": [
        "**Number Guessing Game (User)**"
      ],
      "metadata": {
        "id": "GCx88rJCNqOm"
      }
    },
    {
      "cell_type": "code",
      "source": [
        "import random\n",
        "print(\"The computer has thought of a number between (1,10) ! Try to guess it\")\n",
        "secret_number=random.randint(1,10)\n",
        "try:\n",
        " while True:\n",
        "  user_input=int(input(\"Make a guess between (1,10) ...\"))\n",
        "  if user_input == secret_number:\n",
        "     print(\"You guessed it right!!\")\n",
        "     break\n",
        "  elif user_input > secret_number:\n",
        "     print(\"Think of something smaller....\")\n",
        "  elif user_input < secret_number:\n",
        "     print(\"Think of something bigger....\")\n",
        "except ValueError :\n",
        "     print (\"Invalid input\")\n"
      ],
      "metadata": {
        "colab": {
          "base_uri": "https://localhost:8080/"
        },
        "id": "jnPTbrwGNw82",
        "outputId": "1d8320d3-9d1e-4af3-e73c-e5adf8a30a0a"
      },
      "execution_count": 3,
      "outputs": [
        {
          "output_type": "stream",
          "name": "stdout",
          "text": [
            "The computer has thought of a number between (1,10) ! Try to guess it\n",
            "Make a guess between (1,10) ...7\n",
            "Think of something smaller....\n",
            "Make a guess between (1,10) ...5\n",
            "Think of something smaller....\n",
            "Make a guess between (1,10) ...3\n",
            "Think of something smaller....\n",
            "Make a guess between (1,10) ...2\n",
            "You guessed it right!!\n"
          ]
        }
      ]
    }
  ]
}